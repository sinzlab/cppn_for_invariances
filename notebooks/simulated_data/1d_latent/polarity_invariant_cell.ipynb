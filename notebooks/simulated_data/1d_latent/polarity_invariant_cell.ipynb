{
 "cells": [
  {
   "cell_type": "markdown",
   "id": "790a44cf-b850-45b7-b7d7-5105206ab4b0",
   "metadata": {
    "tags": []
   },
   "source": [
    "# Notebook to identify the neural invariance manifold with a CPPN mapping from a latent space\n",
    "\n",
    "* neuron invariance: polarity (max pooling from two opposite polarity simple cells)\n",
    "* latent space topology: circle (periodic 1D)"
   ]
  },
  {
   "cell_type": "markdown",
   "id": "a1e33081",
   "metadata": {},
   "source": [
    "---\n",
    "\n",
    "### Imports and config parameters\n",
    "\n"
   ]
  },
  {
   "cell_type": "code",
   "execution_count": 82,
   "id": "852b8266-df42-4bcf-918b-e6c49437bce6",
   "metadata": {},
   "outputs": [
    {
     "data": {
      "text/plain": [
       "<torch._C.Generator at 0x7f174a8bd6f0>"
      ]
     },
     "execution_count": 82,
     "metadata": {},
     "output_type": "execute_result"
    }
   ],
   "source": [
    "import numpy as np\n",
    "import matplotlib.pyplot as plt\n",
    "import torch\n",
    "from torch import nn\n",
    "from tqdm import tqdm\n",
    "from classicalv1.toy_models import RotationInvariantGabor, RotationInvariantComplex, ComplexCell\n",
    "from invariance_generation.datamodule import JitteringGridDatamodule\n",
    "from invariance_generation.cppn import CPPNForInvariances\n",
    "from invariance_generation.regularization import SimCLROnGrid\n",
    "from invariance_generation.utils.plot_utils import plot_f, plot_filters\n",
    "import os\n",
    "import math\n",
    "from PIL import Image\n",
    "import glob\n",
    "import matplotlib\n",
    "\n",
    "\n",
    "font = {'size'   : 20}\n",
    "matplotlib.rc('font', **font)\n",
    "\n",
    "device = 'cuda' if torch.cuda.is_available() else 'cpu'\n",
    "with_periodic_invariances = True \n",
    "temperature =  0.3\n",
    "reg_coefs = [1, 0.5]\n",
    "epochs_per_reg = 100\n",
    "lr = 1e-2\n",
    "random_seed = 41\n",
    "np.random.seed(random_seed)\n",
    "torch.manual_seed(random_seed)\n"
   ]
  },
  {
   "cell_type": "markdown",
   "id": "63fc80f0-a0c6-4300-9887-8e3a75380ad0",
   "metadata": {},
   "source": [
    "### Initialize the neuron model\n",
    "This Gabor based neuron is implemented as a max-pooling from energy model complex cells with different orientations"
   ]
  },
  {
   "cell_type": "code",
   "execution_count": 83,
   "id": "fc1f852f-9be1-4ddf-9ad1-6a0cb0e26c05",
   "metadata": {},
   "outputs": [],
   "source": [
    "class PolarityInvCell(nn.Module):\n",
    "    def __init__(self):\n",
    "        super().__init__()\n",
    "        self.cell1 = RotationInvariantGabor(n_thetas=1, phase= 0)\n",
    "        self.cell2 = RotationInvariantGabor(phase =np.pi, n_thetas=1)\n",
    "\n",
    "    def forward(self, x):\n",
    "        x = torch.maximum(self.cell1(x), self.cell2(x))\n",
    "        return x\n",
    "\n",
    "\n",
    "encoding_model = PolarityInvCell().to(device)"
   ]
  },
  {
   "cell_type": "markdown",
   "id": "873643f2-03a0-47ca-b82c-f13fab0455d9",
   "metadata": {},
   "source": [
    "### Initialize CPPN\n",
    "\n",
    "The CPPN is an MLP that create images depending on an input parameter z (latent) predicting pixel values from x and y coordinates"
   ]
  },
  {
   "cell_type": "code",
   "execution_count": 84,
   "id": "2b3887cf-4ee6-41f8-8aed-e1a1ce81e2b0",
   "metadata": {},
   "outputs": [],
   "source": [
    "cppn_config = dict(    \n",
    "    img_res=[30,30],\n",
    "    channels=1,\n",
    "    positional_encoding_dim=10,\n",
    "    positional_encoding_projection_scale=1.,\n",
    "    num_neurons=1,\n",
    "    num_invariances=1,\n",
    "    with_periodic_invariances=with_periodic_invariances,\n",
    "    nonlinearity=nn.LeakyReLU,\n",
    "    weights_scale=.1,\n",
    "    batchnorm=True,\n",
    "    bias=True,\n",
    "    aux_dim_scale=1.\n",
    ")\n",
    "cppn = CPPNForInvariances(**cppn_config).to(device)"
   ]
  },
  {
   "cell_type": "markdown",
   "id": "faa9fe02-f69b-4887-8ac4-2030007029b9",
   "metadata": {},
   "source": [
    "### Intermediate image transformation \n",
    "\n",
    "fix mean and standard deviation (luminance and contrast) before passing images to the neural response model"
   ]
  },
  {
   "cell_type": "code",
   "execution_count": 85,
   "id": "197aca7d-11c0-46b7-b175-e970b9a3c48b",
   "metadata": {},
   "outputs": [],
   "source": [
    "class FixMeanStd(nn.Module):\n",
    "    def __init__(self, mean=None, std=None, eps=1e-12):\n",
    "        super().__init__()\n",
    "        self.mean = mean\n",
    "        self.std = std\n",
    "        self.eps = eps\n",
    "    def forward(self, img):\n",
    "        if self.mean is not None:\n",
    "            img_mean = img.mean(dim=(2, 3), keepdim=True)\n",
    "            img1 = self.mean + img - img_mean\n",
    "        else:\n",
    "            img1 = img\n",
    "        if self.std is not None:        \n",
    "            img_std = img1.std(dim=(2, 3), keepdim=True)\n",
    "            img2 = self.std * img1 / (img_std + self.eps)\n",
    "        return img2\n",
    "\n",
    "img_trans_config = dict(mean=0, std=.2)\n",
    "img_transforms = FixMeanStd(**img_trans_config).to(device)"
   ]
  },
  {
   "cell_type": "markdown",
   "id": "02757849-59a1-4bdf-b817-bb6369c87133",
   "metadata": {},
   "source": [
    "### Dataloader to load latent grid \n",
    "\n",
    "This module sample the grid of points in the latent space from which to create images at each training step"
   ]
  },
  {
   "cell_type": "code",
   "execution_count": 86,
   "id": "9762fc8d-1fa3-4df3-b72b-35c2ec86fb60",
   "metadata": {},
   "outputs": [],
   "source": [
    "dataloader_config = dict(\n",
    "    num_invariances=1,\n",
    "    grid_points_per_dim=100, \n",
    "    steps_per_epoch=100, \n",
    ")\n",
    "dm = JitteringGridDatamodule(**dataloader_config)\n",
    "dm.train_dataloader()\n",
    "grid = dm.grid.to(device)"
   ]
  },
  {
   "cell_type": "markdown",
   "id": "3524cfcf-6d26-4a3c-b55d-5912878c1fcc",
   "metadata": {},
   "source": [
    "### Constrastive learning objective module\n",
    "\n",
    "This object define positive and negative points for each point in the grid and changes depending on latent space topology"
   ]
  },
  {
   "cell_type": "code",
   "execution_count": 87,
   "id": "7e365c76-5d1f-4dda-a890-5f41d68c98f9",
   "metadata": {},
   "outputs": [
    {
     "data": {
      "image/png": "[encoded data removed]",
      "text/plain": [
       "<Figure size 432x288 with 2 Axes>"
      ]
     },
     "metadata": {
      "needs_background": "light"
     },
     "output_type": "display_data"
    }
   ],
   "source": [
    "objective_config = dict(\n",
    "    num_invariances=1,\n",
    "    grid_points_per_dim=100,\n",
    "    neighbor_size=.1,\n",
    "    temperature = temperature,\n",
    "    with_periodic_invariances=with_periodic_invariances,\n",
    "    with_round_neighbor = False\n",
    ")\n",
    "\n",
    "grid_reg = SimCLROnGrid(**objective_config).to(device)\n",
    "ax = plot_f(grid_reg.neighbor_mask, return_plt=True)"
   ]
  },
  {
   "cell_type": "markdown",
   "id": "e371daec-e729-4c35-b2ed-cf17769a0adc",
   "metadata": {},
   "source": [
    "### Create a forward function \n",
    "\n",
    "It feeds point to CPPN to create images, fixes their luminance and contrast and pass them to the neural model to get activations"
   ]
  },
  {
   "cell_type": "code",
   "execution_count": 88,
   "id": "2416849a-d061-4e63-8608-82f11c534e87",
   "metadata": {},
   "outputs": [],
   "source": [
    "def forward(grid, cppn, img_tranfs, encoding_model, resolution_increase_factor=1.):\n",
    "    \"\"\"forward pass throught the pipeline \"\"\"\n",
    "    img_pre = cppn(grid)\n",
    "    img_post = img_tranfs(img_pre)\n",
    "    acts = encoding_model(img_post)\n",
    "    \n",
    "    if resolution_increase_factor > 1:\n",
    "        with torch.no_grad():\n",
    "            img_pre_hres = cppn(grid, img_res=[r*resolution_increase_factor for r in cppn.img_res])\n",
    "            img_post_hres = img_transforms(img_pre_hres)       \n",
    "    else:\n",
    "        img_post_hres = img_post\n",
    "    \n",
    "    return img_pre, img_post, acts, img_post_hres"
   ]
  },
  {
   "cell_type": "markdown",
   "id": "f005dc5c",
   "metadata": {},
   "source": [
    "### Get neuron MEI activation\n",
    "\n",
    "MEI (maximally exciting image) activation can be obtained via direct pixel optimization to maximase neural response (no contrastive loss). "
   ]
  },
  {
   "cell_type": "code",
   "execution_count": 89,
   "id": "e78a5c73-385c-4d0c-8e82-09dc1177fb29",
   "metadata": {},
   "outputs": [],
   "source": [
    "MEI_activation = 32.566429138183594 #  contrast dependent!"
   ]
  },
  {
   "cell_type": "markdown",
   "id": "c8378624-e837-42bf-934b-594b98f31476",
   "metadata": {
    "tags": []
   },
   "source": [
    "## Train the generative model \n",
    "\n",
    "The cppn is trained to maximaxe activation and produce different images with a constrastive regularization term with a regularization strength decreasing schedule"
   ]
  },
  {
   "cell_type": "code",
   "execution_count": 90,
   "id": "7ed394d6-281b-4e7f-8be3-5e2b7ba2e544",
   "metadata": {
    "tags": []
   },
   "outputs": [
    {
     "name": "stderr",
     "output_type": "stream",
     "text": [
      "Act = 0.89 | Reg (1/2) = 1: 100%|██████████| 100/100 [01:18<00:00,  1.27it/s]       \n",
      "Act = 1.01 | Reg (2/2) = 0.5: 100%|██████████| 100/100 [01:14<00:00,  1.34it/s]     \n"
     ]
    }
   ],
   "source": [
    "for reg_idx, reg_scale in enumerate(reg_coefs):\n",
    "    num_epochs = epochs_per_reg\n",
    "    optimizer = torch.optim.Adam(cppn.parameters(), lr=lr)\n",
    "    pbar = tqdm(range(num_epochs), desc='mean activation will appear after one epoch')\n",
    "    encoding_model.eval()\n",
    "    for epoch in pbar:\n",
    "        # Training\n",
    "        cppn.train()\n",
    "        for input_grid in dm.train_dataloader():\n",
    "            input_grid = input_grid.to(device)\n",
    "            img_pre, img_post, _acts, _ = forward(input_grid, cppn, img_transforms, encoding_model)\n",
    "            acts = _acts/MEI_activation\n",
    "            loss = -acts.mean() - reg_scale * grid_reg.reg_term(img_post)\n",
    "            optimizer.zero_grad()\n",
    "            loss.backward()\n",
    "            optimizer.step()\n",
    "        pbar.set_description(f\"Act = {acts.mean().item():.2f} | Reg ({reg_idx+1}/{len(reg_coefs)}) = {reg_scale}\")"
   ]
  },
  {
   "cell_type": "markdown",
   "id": "aaf429ae",
   "metadata": {},
   "source": [
    "## Plots results"
   ]
  },
  {
   "cell_type": "code",
   "execution_count": 91,
   "id": "9277f8d9",
   "metadata": {},
   "outputs": [
    {
     "data": {
      "image/png": "[encoded data removed]",
      "text/plain": [
       "<Figure size 1200x800 with 1 Axes>"
      ]
     },
     "metadata": {
      "needs_background": "light"
     },
     "output_type": "display_data"
    },
    {
     "data": {
      "image/png": "[encoded data removed]",
      "text/plain": [
       "<Figure size 432x288 with 1 Axes>"
      ]
     },
     "metadata": {
      "needs_background": "light"
     },
     "output_type": "display_data"
    },
    {
     "data": {
      "image/png": "[encoded data removed]",
      "text/plain": [
       "<Figure size 216x144 with 1 Axes>"
      ]
     },
     "metadata": {
      "needs_background": "light"
     },
     "output_type": "display_data"
    }
   ],
   "source": [
    "cell_name = f'polarity_invariant/temp_' + str(temperature)\n",
    "with torch.no_grad():\n",
    "    # plot flat\n",
    "    n = 9\n",
    "    grid = torch.linspace(0, 2*np.pi, n+1, )[:n].reshape(n, 1).to(device)\n",
    "    encoding_model.eval()\n",
    "    img_pre, img_post, acts, _ = forward(grid, cppn, img_transforms, encoding_model=encoding_model)\n",
    "    name = \"/project/plots/1D/\"\n",
    "    path = name + cell_name + \"/flat_image/\"\n",
    "    os.makedirs(path, exist_ok=True)\n",
    "    extreme = torch.max(torch.abs(img_post))\n",
    "    plot_filters(img_post, nrow=n,  vmin=-extreme, vmax=extreme, cmap='Greys_r' )\n",
    "    plt.axis('off')\n",
    "    plt.savefig(f'{path}/flat.png', bbox_inches='tight', pad_inches = 0)\n",
    "    plt.show()\n",
    "\n",
    "      # plot in circle\n",
    "    def arrangeImagesInCircle(masterImage, imagesToArrange):\n",
    "        imgWidth, imgHeight = masterImage.size\n",
    "        diameter = min(\n",
    "            imgWidth  - max(img.size[0] for img in imagesToArrange),\n",
    "            imgHeight - max(img.size[1] for img in imagesToArrange)\n",
    "        )\n",
    "        radius = diameter / 2\n",
    "        circleCenterX = imgWidth  / 2\n",
    "        circleCenterY = imgHeight / 2\n",
    "        theta = 2*math.pi / len(imagesToArrange)\n",
    "        for i, curImg in enumerate(imagesToArrange):\n",
    "            angle = i * theta\n",
    "            dx = int(radius * math.sin(angle))\n",
    "            dy = -int(radius * math.cos(angle))\n",
    "            pos = (\n",
    "                int(circleCenterX + dx - curImg.size[0]/2),\n",
    "                int(circleCenterY + dy - curImg.size[1]/2),\n",
    "            )\n",
    "            masterImage.paste(curImg, pos)\n",
    "        return img\n",
    "\n",
    "    grid = torch.linspace(0, 2*np.pi, 13, )[:12].reshape(12, 1).to(device)\n",
    "    encoding_model.eval()\n",
    "    img_pre, img_post, acts, _ = forward(grid, cppn, img_transforms, encoding_model=encoding_model)\n",
    "    name = \"/project/plots/1D/\"\n",
    "    path = name + cell_name \n",
    "    os.makedirs(path, exist_ok=True)\n",
    "    for i in range(0, 12):\n",
    "        plt.imshow(img_post.detach().cpu().numpy()[i, 0],  vmin=-extreme, vmax=extreme, cmap='Greys_r')\n",
    "        plt.axis('off')\n",
    "        plt.savefig(f'{path}/{i:02d}.png', bbox_inches='tight', pad_inches = 0)\n",
    "    img = Image.new(\"RGB\", (1000,1000), (255,255,255))\n",
    "    folder = path + \"/circle_image/\"\n",
    "    os.makedirs(folder, exist_ok=True)\n",
    "    imageFilenames = glob.glob(f'{path}/*.png')\n",
    "    imageFilenames = sorted(imageFilenames)\n",
    "    images = [Image.open(filename) for filename in imageFilenames]\n",
    "    IMG = arrangeImagesInCircle(img, images)\n",
    "    IMG.save(f'{folder}/circle.png')\n",
    "    plt.imshow(IMG)\n",
    "\n",
    "    # activation\n",
    "    n = 4000\n",
    "    grid = torch.linspace(0, 2*np.pi, n+1 )[:n].reshape(n, 1).to(device)\n",
    "    encoding_model.eval()\n",
    "    img_pre, img_post, acts, _ = forward(grid, cppn, img_transforms, encoding_model=encoding_model)\n",
    "    acts = acts/MEI_activation\n",
    "    name = \"/project/plots/1D/\"\n",
    "    path = name  + cell_name + \"/activation/\" \n",
    "    os.makedirs(path, exist_ok=True)\n",
    "    fix, ax = plt.subplots(1, 1, figsize=(3,2))\n",
    "    ax.spines['top'].set_visible(False)\n",
    "    ax.spines['right'].set_visible(False)\n",
    "    ax.spines['bottom'].set_visible(True)\n",
    "    ax.spines['left'].set_visible(True)\n",
    "    plt.ylabel('normalized activation')\n",
    "    plt.xlabel(r'$z$')\n",
    "    ax.hlines(1, 0, 2*np.pi, linewidth=1)\n",
    "    ax.plot(grid.detach().cpu().squeeze().numpy(), acts.detach().cpu().squeeze().numpy(),  linewidth=4)\n",
    "    ax.set_ylim(0, 1.1)\n",
    "    ax.set_xlim(0, 2*np.pi)\n",
    "    ax.set_xticks([0,np.pi, 2*np.pi])\n",
    "    ax.set_xticklabels(['0', r'$\\pi$', r'2$\\pi$'])\n",
    "    plt.savefig(path + 'act.svg',  bbox_inches='tight', transparent=False)\n",
    "    plt.show()\n"
   ]
  }
 ],
 "metadata": {
  "kernelspec": {
   "display_name": "Python 3 (ipykernel)",
   "language": "python",
   "name": "python3"
  },
  "language_info": {
   "codemirror_mode": {
    "name": "ipython",
    "version": 3
   },
   "file_extension": ".py",
   "mimetype": "text/x-python",
   "name": "python",
   "nbconvert_exporter": "python",
   "pygments_lexer": "ipython3",
   "version": "3.9.6"
  }
 },
 "nbformat": 4,
 "nbformat_minor": 5
}
