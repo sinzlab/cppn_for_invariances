{
 "cells": [
  {
   "cell_type": "markdown",
   "id": "790a44cf-b850-45b7-b7d7-5105206ab4b0",
   "metadata": {
    "tags": []
   },
   "source": [
    "# Notebook to identify neural invariances with CPPN with 2d latent space"
   ]
  },
  {
   "cell_type": "code",
   "execution_count": 30,
   "id": "852b8266-df42-4bcf-918b-e6c49437bce6",
   "metadata": {},
   "outputs": [],
   "source": [
    "import numpy as np\n",
    "import matplotlib.pyplot as plt\n",
    "import torch\n",
    "from torch import nn\n",
    "from tqdm import tqdm\n",
    "import wandb\n",
    "from classicalv1.toy_models import RotationInvariantGabor, RotationInvariantComplex, ComplexCell\n",
    "from invariance_generation.datamodule import JitteringGridDatamodule\n",
    "from invariance_generation.cppn import CPPNForInvariances\n",
    "from invariance_generation.regularization import SimCLROnGrid\n",
    "from invariance_generation.utils.plot_utils import plot_f, plot_filters\n",
    "from invariance_generation.utils.misc import prepare_video\n",
    "import os\n",
    "import math\n",
    "from PIL import Image\n",
    "import glob\n",
    "import matplotlib\n",
    "font = {'size'   : 20}\n",
    "\n",
    "\n",
    "matplotlib.rc('font', **font)\n",
    "\n",
    "device = 'cuda' if torch.cuda.is_available() else 'cpu'"
   ]
  },
  {
   "cell_type": "code",
   "execution_count": 31,
   "id": "eeba42b6",
   "metadata": {},
   "outputs": [],
   "source": [
    "random_seed = 42\n",
    "with_periodic_invariances = True # chose among: False True \n",
    "blow_up = False # choose among: True False\n",
    "temperature =  0.3\n",
    "reg_coefs = [1, 0.5]\n",
    "epochs_per_reg = 100\n",
    "lr = 1e-2\n"
   ]
  },
  {
   "cell_type": "code",
   "execution_count": 32,
   "id": "133b4bf9",
   "metadata": {},
   "outputs": [
    {
     "data": {
      "text/plain": [
       "<torch._C.Generator at 0x7fd0e5c3b470>"
      ]
     },
     "execution_count": 32,
     "metadata": {},
     "output_type": "execute_result"
    }
   ],
   "source": [
    "np.random.seed(random_seed)\n",
    "torch.manual_seed(random_seed)"
   ]
  },
  {
   "cell_type": "markdown",
   "id": "18dd1396-bf92-4532-b600-17c382d1efed",
   "metadata": {},
   "source": [
    "---"
   ]
  },
  {
   "cell_type": "markdown",
   "id": "63fc80f0-a0c6-4300-9887-8e3a75380ad0",
   "metadata": {},
   "source": [
    "## Initialize the neuron model"
   ]
  },
  {
   "cell_type": "code",
   "execution_count": 33,
   "id": "fc1f852f-9be1-4ddf-9ad1-6a0cb0e26c05",
   "metadata": {},
   "outputs": [],
   "source": [
    "neuron_config = {\n",
    "        'res': [30, 30],\n",
    "        'n_thetas': 180,\n",
    "        'pos': [0, 0],\n",
    "        'max_angle': 2*np.pi\n",
    "    }\n",
    "encoding_model = RotationInvariantComplex(**neuron_config).to(device)\n",
    "MEI_activation = 32.566429138183594"
   ]
  },
  {
   "cell_type": "markdown",
   "id": "873643f2-03a0-47ca-b82c-f13fab0455d9",
   "metadata": {},
   "source": [
    "## Re-parametrized image generation via CPPN"
   ]
  },
  {
   "cell_type": "code",
   "execution_count": null,
   "id": "2b3887cf-4ee6-41f8-8aed-e1a1ce81e2b0",
   "metadata": {},
   "outputs": [
    {
     "data": {
      "text/plain": [
       "\n",
       "Number of neurons = 1\n",
       "Embedding dims = 0\n",
       "Invariance dims = 1\n",
       "Periodicity = [True]\n",
       "single image shape = [1, 30, 30]\n",
       "CPPNForInvariances(\n",
       "  (cppn_generator): CPPNGenerator(\n",
       "    (func): Sequential(\n",
       "      (layer0): Linear(in_features=22, out_features=15, bias=True)\n",
       "      (batchnorm0): BatchNorm1d(15, eps=1e-05, momentum=0.1, affine=True, track_running_stats=False)\n",
       "      (nonlinearity0): LeakyReLU(negative_slope=0.01)\n",
       "      (layer1): Linear(in_features=15, out_features=15, bias=True)\n",
       "      (batchnorm1): BatchNorm1d(15, eps=1e-05, momentum=0.1, affine=True, track_running_stats=False)\n",
       "      (nonlinearity1): LeakyReLU(negative_slope=0.01)\n",
       "      (layer2): Linear(in_features=15, out_features=15, bias=True)\n",
       "      (batchnorm2): BatchNorm1d(15, eps=1e-05, momentum=0.1, affine=True, track_running_stats=False)\n",
       "      (nonlinearity2): LeakyReLU(negative_slope=0.01)\n",
       "      (layer3): Linear(in_features=15, out_features=15, bias=True)\n",
       "      (batchnorm3): BatchNorm1d(15, eps=1e-05, momentum=0.1, affine=True, track_running_stats=False)\n",
       "      (nonlinearity3): LeakyReLU(negative_slope=0.01)\n",
       "      (layer4): Linear(in_features=15, out_features=15, bias=True)\n",
       "      (batchnorm4): BatchNorm1d(15, eps=1e-05, momentum=0.1, affine=True, track_running_stats=False)\n",
       "      (nonlinearity4): LeakyReLU(negative_slope=0.01)\n",
       "      (layer5): Linear(in_features=15, out_features=15, bias=True)\n",
       "      (batchnorm5): BatchNorm1d(15, eps=1e-05, momentum=0.1, affine=True, track_running_stats=False)\n",
       "      (nonlinearity5): LeakyReLU(negative_slope=0.01)\n",
       "      (layer6): Linear(in_features=15, out_features=15, bias=True)\n",
       "      (batchnorm6): BatchNorm1d(15, eps=1e-05, momentum=0.1, affine=True, track_running_stats=False)\n",
       "      (nonlinearity6): LeakyReLU(negative_slope=0.01)\n",
       "      (layer7): Linear(in_features=15, out_features=1, bias=True)\n",
       "      (nonlinearity7): Tanh()\n",
       "    )\n",
       "  )\n",
       ")"
      ]
     },
     "execution_count": 19,
     "metadata": {},
     "output_type": "execute_result"
    }
   ],
   "source": [
    "cppn_config = dict(    \n",
    "    img_res=[30,30],\n",
    "    channels=1,\n",
    "    positional_encoding_dim=10,\n",
    "    positional_encoding_projection_scale=1.,\n",
    "    num_neurons=1,\n",
    "    num_invariances=1,\n",
    "    with_periodic_invariances=with_periodic_invariances,\n",
    "    nonlinearity=nn.LeakyReLU,\n",
    "    weights_scale=.1,\n",
    "    batchnorm=True,\n",
    "    bias=True,\n",
    "    aux_dim_scale=1.\n",
    ")\n",
    "cppn = CPPNForInvariances(**cppn_config).to(device)\n",
    "cppn"
   ]
  },
  {
   "cell_type": "markdown",
   "id": "faa9fe02-f69b-4887-8ac4-2030007029b9",
   "metadata": {},
   "source": [
    "## Intermediate img transformation"
   ]
  },
  {
   "cell_type": "code",
   "execution_count": null,
   "id": "197aca7d-11c0-46b7-b175-e970b9a3c48b",
   "metadata": {},
   "outputs": [],
   "source": [
    "class FixMeanStd(nn.Module):\n",
    "    def __init__(self, mean=None, std=None, eps=1e-12):\n",
    "        super().__init__()\n",
    "        self.mean = mean\n",
    "        self.std = std\n",
    "        self.eps = eps\n",
    "    def forward(self, img):\n",
    "        if self.mean is not None:\n",
    "            img_mean = img.mean(dim=(2, 3), keepdim=True)\n",
    "            img1 = self.mean + img - img_mean\n",
    "        else:\n",
    "            img1 = img\n",
    "        if self.std is not None:        \n",
    "            img_std = img1.std(dim=(2, 3), keepdim=True)\n",
    "            img2 = self.std * img1 / (img_std + self.eps)\n",
    "        return img2\n",
    "\n",
    "class NoTransform(nn.Module):\n",
    "    def __init__(self):\n",
    "        super().__init__()\n",
    "    def forward(self, x):\n",
    "        return x"
   ]
  },
  {
   "cell_type": "code",
   "execution_count": null,
   "id": "56849455-788b-4a99-81b8-af22fbf45bf5",
   "metadata": {},
   "outputs": [],
   "source": [
    "img_trans_config = dict(mean=0, std=.2)\n",
    "img_transforms = FixMeanStd(**img_trans_config).to(device)"
   ]
  },
  {
   "cell_type": "markdown",
   "id": "02757849-59a1-4bdf-b817-bb6369c87133",
   "metadata": {},
   "source": [
    "## Dataloader to load latent grid points"
   ]
  },
  {
   "cell_type": "code",
   "execution_count": null,
   "id": "9762fc8d-1fa3-4df3-b72b-35c2ec86fb60",
   "metadata": {},
   "outputs": [],
   "source": [
    "dataloader_config = dict(\n",
    "    num_invariances=1,\n",
    "    grid_points_per_dim=100, \n",
    "    steps_per_epoch=100, \n",
    ")\n",
    "dm = JitteringGridDatamodule(**dataloader_config)\n",
    "dm.train_dataloader()\n",
    "grid = dm.grid.to(device)"
   ]
  },
  {
   "cell_type": "markdown",
   "id": "3524cfcf-6d26-4a3c-b55d-5912878c1fcc",
   "metadata": {},
   "source": [
    "## Constrastive learning objective"
   ]
  },
  {
   "cell_type": "code",
   "execution_count": null,
   "id": "7e365c76-5d1f-4dda-a890-5f41d68c98f9",
   "metadata": {},
   "outputs": [
    {
     "data": {
      "image/png": "[encoded data removed]",
      "text/plain": [
       "<Figure size 432x288 with 2 Axes>"
      ]
     },
     "metadata": {
      "needs_background": "light"
     },
     "output_type": "display_data"
    }
   ],
   "source": [
    "objective_config = dict(\n",
    "    num_invariances=1,\n",
    "    grid_points_per_dim=100,\n",
    "    neighbor_size=.1,\n",
    "    temperature = temperature,\n",
    "    with_periodic_invariances=with_periodic_invariances,\n",
    "    with_round_neighbor = False\n",
    ")\n",
    "\n",
    "grid_reg = SimCLROnGrid(**objective_config).to(device)\n",
    "ax = plot_f(grid_reg.neighbor_mask, return_plt=True)"
   ]
  },
  {
   "cell_type": "markdown",
   "id": "e371daec-e729-4c35-b2ed-cf17769a0adc",
   "metadata": {},
   "source": [
    "## Output function"
   ]
  },
  {
   "cell_type": "code",
   "execution_count": null,
   "id": "2416849a-d061-4e63-8608-82f11c534e87",
   "metadata": {},
   "outputs": [],
   "source": [
    "def forward(grid, cppn, img_tranfs, encoding_model, resolution_increase_factor=1.):\n",
    "    \"\"\"forward pass throught the pipeline \"\"\"\n",
    "    img_pre = cppn(grid)\n",
    "    img_post = img_tranfs(img_pre)\n",
    "    acts = encoding_model(img_post)\n",
    "    \n",
    "    if resolution_increase_factor > 1:\n",
    "        with torch.no_grad():\n",
    "            img_pre_hres = cppn(grid, img_res=[r*resolution_increase_factor for r in cppn.img_res])\n",
    "            img_post_hres = img_transforms(img_pre_hres)       \n",
    "    else:\n",
    "        img_post_hres = img_post\n",
    "    \n",
    "    return img_pre, img_post, acts, img_post_hres"
   ]
  },
  {
   "cell_type": "code",
   "execution_count": null,
   "id": "e78a5c73-385c-4d0c-8e82-09dc1177fb29",
   "metadata": {},
   "outputs": [],
   "source": [
    "\n",
    "if MEI_activation is None:\n",
    "    num_epochs = 20\n",
    "    optimizer = torch.optim.Adam(cppn.parameters(), lr=lr)\n",
    "\n",
    "    pbar = tqdm(range(num_epochs), desc='mean activation will appear after one epoch')\n",
    "    encoding_model.eval()\n",
    "\n",
    "    activations = []\n",
    "    for epoch in pbar:\n",
    "\n",
    "        # Training\n",
    "        cppn.train()\n",
    "        for input_grid in dm.train_dataloader():\n",
    "            input_grid = input_grid.to(device)\n",
    "            img_pre, img_post, _acts, _ = forward(input_grid, cppn, img_transforms, encoding_model)\n",
    "            acts = _acts\n",
    "            loss = -acts.mean()\n",
    "            optimizer.zero_grad()\n",
    "            loss.backward()\n",
    "            optimizer.step()\n",
    "\n",
    "        pbar.set_description(f\"act = {acts.mean().item()}\")\n",
    "        activations.append(acts.mean().item())\n",
    "\n",
    "    cppn.eval()    \n",
    "    with torch.no_grad():\n",
    "        img_pre, img_post, acts, img_post_hr = forward(grid, cppn, img_transforms, \n",
    "                                                       encoding_model, resolution_increase_factor=3)\n",
    "        fig, ax = plot_filters(img_post_hr, nrow=int(np.sqrt(grid.shape[0])))\n",
    "        ax.set(xticks=[], yticks=[], title=f\"Epcoh {epoch+1}/{num_epochs}\");\n",
    "        plt.show()"
   ]
  },
  {
   "cell_type": "markdown",
   "id": "c8378624-e837-42bf-934b-594b98f31476",
   "metadata": {
    "tags": []
   },
   "source": [
    "## Train the generative model (logging with wandb)"
   ]
  },
  {
   "cell_type": "code",
   "execution_count": null,
   "id": "14512765-6a97-4693-b318-ca19fbae9f71",
   "metadata": {},
   "outputs": [
    {
     "data": {
      "text/plain": [
       "{'random_seed': 42,\n",
       " 'neuron_config': [],\n",
       " 'MEI_activation': 32.566429138183594,\n",
       " 'cppn_config': {'img_res': [30, 30],\n",
       "  'channels': 1,\n",
       "  'positional_encoding_dim': 10,\n",
       "  'positional_encoding_projection_scale': 1.0,\n",
       "  'num_neurons': 1,\n",
       "  'num_invariances': 1,\n",
       "  'with_periodic_invariances': True,\n",
       "  'nonlinearity': torch.nn.modules.activation.LeakyReLU,\n",
       "  'weights_scale': 0.1,\n",
       "  'batchnorm': True,\n",
       "  'bias': True,\n",
       "  'aux_dim_scale': 1.0},\n",
       " 'img_trans_config': {'mean': 0, 'std': 0.2},\n",
       " 'dataloader_config': {'num_invariances': 1,\n",
       "  'grid_points_per_dim': 100,\n",
       "  'steps_per_epoch': 100},\n",
       " 'objective_config': {'num_invariances': 1,\n",
       "  'grid_points_per_dim': 100,\n",
       "  'neighbor_size': 0.1,\n",
       "  'temperature': 0.3,\n",
       "  'with_periodic_invariances': True,\n",
       "  'with_round_neighbor': False},\n",
       " 'training_config': {'reg_coefs': [1, 0.5], 'epochs_per_reg': 100}}"
      ]
     },
     "execution_count": 26,
     "metadata": {},
     "output_type": "execute_result"
    }
   ],
   "source": [
    "config = {\n",
    "    \"random_seed\": random_seed,\n",
    "    \"neuron_config\": [],\n",
    "    \"MEI_activation\": MEI_activation,\n",
    "    \"cppn_config\": cppn_config, \n",
    "    \"img_trans_config\": img_trans_config, \n",
    "    \"dataloader_config\": dataloader_config, \n",
    "    \"objective_config\": objective_config,\n",
    "    \"training_config\": {\"reg_coefs\": reg_coefs, \n",
    "                        \"epochs_per_reg\": epochs_per_reg,}\n",
    "}\n",
    "config"
   ]
  },
  {
   "cell_type": "code",
   "execution_count": null,
   "id": "4304285c-fc37-4b2f-bb2a-5d6e266bfaed",
   "metadata": {},
   "outputs": [
    {
     "data": {
      "text/html": [
       "Finishing last run (ID:onz27o5i) before initializing another..."
      ],
      "text/plain": [
       "<IPython.core.display.HTML object>"
      ]
     },
     "metadata": {},
     "output_type": "display_data"
    },
    {
     "data": {
      "text/html": [
       "Waiting for W&B process to finish... <strong style=\"color:green\">(success).</strong>"
      ],
      "text/plain": [
       "<IPython.core.display.HTML object>"
      ]
     },
     "metadata": {},
     "output_type": "display_data"
    },
    {
     "data": {
      "application/vnd.jupyter.widget-view+json": {
       "model_id": "9a1cd7d78fa94794863e883cc5bfde76",
       "version_major": 2,
       "version_minor": 0
      },
      "text/plain": [
       "VBox(children=(Label(value='74.077 MB of 74.077 MB uploaded (0.000 MB deduped)\\r'), FloatProgress(value=1.0, m…"
      ]
     },
     "metadata": {},
     "output_type": "display_data"
    },
    {
     "data": {
      "text/html": [
       "<style>\n",
       "    table.wandb td:nth-child(1) { padding: 0 10px; text-align: left ; width: auto;} td:nth-child(2) {text-align: left ; width: 100%}\n",
       "    .wandb-row { display: flex; flex-direction: row; flex-wrap: wrap; justify-content: flex-start; width: 100% }\n",
       "    .wandb-col { display: flex; flex-direction: column; flex-basis: 100%; flex: 1; padding: 10px; }\n",
       "    </style>\n",
       "<div class=\"wandb-row\"><div class=\"wandb-col\"><h3>Run history:</h3><br/><table class=\"wandb\"><tr><td>act_mean</td><td>▁▇▇▇▇▇▇▇▇█▇█▇▇▇█▇▇▇▇██▇██▇█▇██████▇▇████</td></tr><tr><td>act_std</td><td>█▁▁▁▁▁▂▂▁▁▂▁▂▁▂▂▁▂▁▂▂▁▂▁▂▂▂▂▂▁▂▂▁▁▂▂▁▁▁▂</td></tr><tr><td>reg/cppn_out_mean</td><td>█▂▂▂▂▃▃▃▃▂▂▂▂▂▁▁▂▂▂▂▂▂▃▃▃▃▃▄▃▃▂▂▂▂▂▂▂▂▁▁</td></tr><tr><td>reg/cppn_out_std</td><td>▅▂▁▃▃▄▃▄▄▄▄▃▅▅▅▅▅▅▆▆▆▆▇▇█▇█████▇█▇▇▇▇▇▇▆</td></tr><tr><td>reg/full</td><td>▁▆▆▇▇▇▇▇▇▆▇▇▇▇▇▇▇▇▇██▇█▇▇█▇█▇▇▇█▇▇███▇█▇</td></tr><tr><td>reg/neg</td><td>▁▅▆▇▇▇▇▇▇▇▇▇█▇█▇█▇▇██▇█▇▇███▇▇▇█▇▇██▇▇██</td></tr><tr><td>reg/pos</td><td>█▆▅▃▃▃▂▃▃▂▂▁▁▂▁▃▂▃▄▁▂▃▃▂▄▂▁▂▃▄▃▂▅▄▂▂▄▂▃▂</td></tr></table><br/></div><div class=\"wandb-col\"><h3>Run summary:</h3><br/><table class=\"wandb\"><tr><td>act_mean</td><td>0.97517</td></tr><tr><td>act_std</td><td>0.00922</td></tr><tr><td>reg/cppn_out_mean</td><td>-0.15718</td></tr><tr><td>reg/cppn_out_std</td><td>0.13744</td></tr><tr><td>reg/full</td><td>0.46323</td></tr><tr><td>reg/neg</td><td>0.05046</td></tr><tr><td>reg/pos</td><td>0.41277</td></tr></table><br/></div></div>"
      ],
      "text/plain": [
       "<IPython.core.display.HTML object>"
      ]
     },
     "metadata": {},
     "output_type": "display_data"
    },
    {
     "data": {
      "text/html": [
       "Synced <strong style=\"color:#cdcd00\">elated-breeze-1</strong>: <a href=\"https://wandb.ai/lucabaroni/project-notebooks_simulated_data_1d_latent/runs/onz27o5i\" target=\"_blank\">https://wandb.ai/lucabaroni/project-notebooks_simulated_data_1d_latent/runs/onz27o5i</a><br/>Synced 6 W&B file(s), 166 media file(s), 0 artifact file(s) and 1 other file(s)"
      ],
      "text/plain": [
       "<IPython.core.display.HTML object>"
      ]
     },
     "metadata": {},
     "output_type": "display_data"
    },
    {
     "data": {
      "text/html": [
       "Find logs at: <code>./wandb/run-20221204_230308-onz27o5i/logs</code>"
      ],
      "text/plain": [
       "<IPython.core.display.HTML object>"
      ]
     },
     "metadata": {},
     "output_type": "display_data"
    },
    {
     "data": {
      "text/html": [
       "Successfully finished last run (ID:onz27o5i). Initializing new run:<br/>"
      ],
      "text/plain": [
       "<IPython.core.display.HTML object>"
      ]
     },
     "metadata": {},
     "output_type": "display_data"
    },
    {
     "data": {
      "application/vnd.jupyter.widget-view+json": {
       "model_id": "cddee883285c4e59bb4711e676475c64",
       "version_major": 2,
       "version_minor": 0
      },
      "text/plain": [
       "VBox(children=(Label(value='Waiting for wandb.init()...\\r'), FloatProgress(value=0.033339770634969075, max=1.0…"
      ]
     },
     "metadata": {},
     "output_type": "display_data"
    },
    {
     "data": {
      "text/html": [
       "wandb version 0.13.5 is available!  To upgrade, please run:\n",
       " $ pip install wandb --upgrade"
      ],
      "text/plain": [
       "<IPython.core.display.HTML object>"
      ]
     },
     "metadata": {},
     "output_type": "display_data"
    },
    {
     "data": {
      "text/html": [
       "Tracking run with wandb version 0.13.3"
      ],
      "text/plain": [
       "<IPython.core.display.HTML object>"
      ]
     },
     "metadata": {},
     "output_type": "display_data"
    },
    {
     "data": {
      "text/html": [
       "Run data is saved locally in <code>/project/notebooks/simulated_data/1d_latent/wandb/run-20221204_230547-gxyt4qjr</code>"
      ],
      "text/plain": [
       "<IPython.core.display.HTML object>"
      ]
     },
     "metadata": {},
     "output_type": "display_data"
    },
    {
     "data": {
      "text/html": [
       "Syncing run <strong><a href=\"https://wandb.ai/lucabaroni/project-notebooks_simulated_data_1d_latent/runs/gxyt4qjr\" target=\"_blank\">magic-sky-2</a></strong> to <a href=\"https://wandb.ai/lucabaroni/project-notebooks_simulated_data_1d_latent\" target=\"_blank\">Weights & Biases</a> (<a href=\"https://wandb.me/run\" target=\"_blank\">docs</a>)<br/>"
      ],
      "text/plain": [
       "<IPython.core.display.HTML object>"
      ]
     },
     "metadata": {},
     "output_type": "display_data"
    }
   ],
   "source": [
    "run = wandb.init(config=config, tags=['phase_and_orientation_invariant'])"
   ]
  },
  {
   "cell_type": "code",
   "execution_count": null,
   "id": "7ed394d6-281b-4e7f-8be3-5e2b7ba2e544",
   "metadata": {
    "tags": []
   },
   "outputs": [
    {
     "name": "stderr",
     "output_type": "stream",
     "text": [
      "Act = 0.98 | Reg (1/2) = 1: 100%|██████████| 100/100 [02:30<00:00,  1.51s/it]       \n",
      "Act = 0.98 | Reg (2/2) = 0.5: 100%|██████████| 100/100 [02:28<00:00,  1.48s/it]     \n"
     ]
    }
   ],
   "source": [
    "img_transforms = FixMeanStd(**img_trans_config).to(device)\n",
    "MEI_activation = MEI_activation = 32.914\n",
    "for reg_idx, reg_scale in enumerate(reg_coefs):\n",
    "\n",
    "    num_epochs = epochs_per_reg\n",
    "    optimizer = torch.optim.Adam(cppn.parameters(), lr=lr)\n",
    "\n",
    "    pbar = tqdm(range(num_epochs), desc='mean activation will appear after one epoch')\n",
    "    encoding_model.eval()\n",
    "\n",
    "    for epoch in pbar:\n",
    "\n",
    "        # Training\n",
    "        cppn.train()\n",
    "        for input_grid in dm.train_dataloader():\n",
    "            input_grid = input_grid.to(device)\n",
    "            img_pre, img_post, _acts, _ = forward(input_grid, cppn, img_transforms, encoding_model)\n",
    "            acts = _acts/MEI_activation\n",
    "            loss = -acts.mean() - reg_scale * grid_reg.reg_term(img_post)\n",
    "            optimizer.zero_grad()\n",
    "            loss.backward()\n",
    "            optimizer.step()\n",
    "\n",
    "        pbar.set_description(f\"Act = {acts.mean().item():.2f} | Reg ({reg_idx+1}/{len(reg_coefs)}) = {reg_scale}\")\n",
    "\n",
    "        # Validation\n",
    "        cppn.eval()     \n",
    "        with torch.no_grad():\n",
    "            img_pre, img_post, _acts, _ = forward(grid, cppn, img_transforms, \n",
    "                                                           encoding_model, resolution_increase_factor=3)\n",
    "            *_, img_post_hr = forward(grid, cppn, img_transforms, \n",
    "                                      encoding_model, resolution_increase_factor=3)\n",
    "            acts = _acts/MEI_activation\n",
    "            fig, ax = plot_filters(img_post_hr, nrow=int(np.sqrt(grid.shape[0])))\n",
    "            ax.set(xticks=[], yticks=[], title=f\"Epoch {epoch+1}/{num_epochs}\");\n",
    "            plt.close()\n",
    "\n",
    "            if wandb.run is not None: \n",
    "                wandb.log({\n",
    "                    \"invariance_vis\": fig,\n",
    "                    'invariance_vid': prepare_video(img_post_hr),\n",
    "                    \"act_mean\" :acts.mean(),\n",
    "                    \"act_std\": acts.std(),\n",
    "                    \"reg/cppn_out_mean\": img_pre.mean(),\n",
    "                    \"reg/cppn_out_std\": img_pre.std(),\n",
    "                    \"reg/full\": grid_reg.reg_term(img_post),\n",
    "                    \"reg/pos\": grid_reg.pos_term(img_post),\n",
    "                    \"reg/neg\": grid_reg.neg_term(img_post), \n",
    "                })\n",
    "    "
   ]
  },
  {
   "cell_type": "markdown",
   "id": "aaf429ae",
   "metadata": {},
   "source": [
    "## plots"
   ]
  },
  {
   "cell_type": "code",
   "execution_count": 34,
   "id": "9277f8d9",
   "metadata": {},
   "outputs": [
    {
     "data": {
      "image/png": "[encoded data removed]",
      "text/plain": [
       "<Figure size 1200x800 with 1 Axes>"
      ]
     },
     "metadata": {
      "needs_background": "light"
     },
     "output_type": "display_data"
    },
    {
     "data": {
      "image/png": "[encoded data removed]",
      "text/plain": [
       "<Figure size 216x144 with 1 Axes>"
      ]
     },
     "metadata": {
      "needs_background": "light"
     },
     "output_type": "display_data"
    }
   ],
   "source": [
    "cell_name = f'2d_with_1d/temp_' + str(temperature)\n",
    "with torch.no_grad():\n",
    "    # plot flat\n",
    "    n = 9\n",
    "    grid = torch.linspace(0, 2*np.pi, n+1, )[:n].reshape(n, 1).to(device)\n",
    "    encoding_model.eval()\n",
    "    img_pre, img_post, acts, _ = forward(grid, cppn, img_transforms, encoding_model=encoding_model)\n",
    "    name = \"/project/plots/1D/\"\n",
    "    path = name + cell_name + \"/flat_image/\"\n",
    "    os.makedirs(path, exist_ok=True)\n",
    "    extreme = torch.max(torch.abs(img_post))\n",
    "    plot_filters(img_post, nrow=n,  vmin=-extreme, vmax=extreme, cmap='Greys_r' )\n",
    "    plt.axis('off')\n",
    "    plt.savefig(f'{path}/flat.png', bbox_inches='tight', pad_inches = 0)\n",
    "\n",
    "    # plot in circle\n",
    "    def arrangeImagesInCircle(masterImage, imagesToArrange):\n",
    "        imgWidth, imgHeight = masterImage.size\n",
    "        diameter = min(\n",
    "            imgWidth  - max(img.size[0] for img in imagesToArrange),\n",
    "            imgHeight - max(img.size[1] for img in imagesToArrange)\n",
    "        )\n",
    "        radius = diameter / 2\n",
    "        circleCenterX = imgWidth  / 2\n",
    "        circleCenterY = imgHeight / 2\n",
    "        theta = 2*math.pi / len(imagesToArrange)\n",
    "        for i, curImg in enumerate(imagesToArrange):\n",
    "            angle = i * theta\n",
    "            dx = int(radius * math.sin(angle))\n",
    "            dy = -int(radius * math.cos(angle))\n",
    "            pos = (\n",
    "                int(circleCenterX + dx - curImg.size[0]/2),\n",
    "                int(circleCenterY + dy - curImg.size[1]/2),\n",
    "            )\n",
    "            masterImage.paste(curImg, pos)\n",
    "        return img\n",
    "\n",
    "    grid = torch.linspace(0, 2*np.pi, 13, )[:12].reshape(12, 1).to(device)\n",
    "    encoding_model.eval()\n",
    "    img_pre, img_post, acts, _ = forward(grid, cppn, img_transforms, encoding_model=encoding_model)\n",
    "    name = \"/project/plots/1D/\"\n",
    "    path = name + cell_name \n",
    "    os.makedirs(path, exist_ok=True)\n",
    "    for i in range(0, 12):\n",
    "        plt.imshow(img_post.detach().cpu().numpy()[i, 0],  vmin=-extreme, vmax=extreme, cmap='Greys_r')\n",
    "        plt.axis('off')\n",
    "        plt.savefig(f'{path}/{i:02d}.png', bbox_inches='tight', pad_inches = 0)\n",
    "    img = Image.new(\"RGB\", (2800,2800), (255,255,255))\n",
    "    folder = path + \"/circle_image/\"\n",
    "    os.makedirs(folder, exist_ok=True)\n",
    "    imageFilenames = glob.glob(f'{path}/*.png')\n",
    "    imageFilenames = sorted(imageFilenames)\n",
    "    images = [Image.open(filename) for filename in imageFilenames]\n",
    "    img = arrangeImagesInCircle(img, images)\n",
    "    img.save(f'{folder}/circle.png')\n",
    "\n",
    "    # activation\n",
    "    n = 100\n",
    "    grid = torch.linspace(0, 2*np.pi, n+1 )[:n].reshape(n, 1).to(device)\n",
    "    encoding_model.eval()\n",
    "    img_pre, img_post, acts, _ = forward(grid, cppn, img_transforms, encoding_model=encoding_model)\n",
    "    acts = acts/MEI_activation\n",
    "    name = \"/project/plots/1D/\"\n",
    "    path = name  + cell_name + \"/activation/\" \n",
    "    os.makedirs(path, exist_ok=True)\n",
    "    fix, ax = plt.subplots(1, 1, figsize=(3,2))\n",
    "    ax.spines['top'].set_visible(False)\n",
    "    ax.spines['right'].set_visible(False)\n",
    "    ax.spines['bottom'].set_visible(True)\n",
    "    ax.spines['left'].set_visible(True)\n",
    "    plt.ylabel('normalized activation')\n",
    "    plt.xlabel(r'$z$')\n",
    "    ax.hlines(1, 0, 2*np.pi, linewidth=1)\n",
    "    ax.plot(grid.detach().cpu().squeeze().numpy(), acts.detach().cpu().squeeze().numpy(),  linewidth=4)\n",
    "    ax.set_ylim(0, 1.1)\n",
    "    ax.set_xlim(0, 2*np.pi)\n",
    "    ax.set_xticks([0,np.pi, 2*np.pi])\n",
    "    ax.set_xticklabels(['0', r'$\\pi$', r'2$\\pi$'])\n",
    "    plt.savefig(path + 'act.svg',  bbox_inches='tight', transparent=False)\n",
    "    # plt.show()"
   ]
  }
 ],
 "metadata": {
  "kernelspec": {
   "display_name": "Python 3 (ipykernel)",
   "language": "python",
   "name": "python3"
  },
  "language_info": {
   "codemirror_mode": {
    "name": "ipython",
    "version": 3
   },
   "file_extension": ".py",
   "mimetype": "text/x-python",
   "name": "python",
   "nbconvert_exporter": "python",
   "pygments_lexer": "ipython3",
   "version": "3.9.6"
  }
 },
 "nbformat": 4,
 "nbformat_minor": 5
}
