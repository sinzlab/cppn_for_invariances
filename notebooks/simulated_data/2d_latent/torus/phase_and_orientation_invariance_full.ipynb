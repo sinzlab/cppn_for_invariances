{
 "cells": [
  {
   "cell_type": "markdown",
   "id": "790a44cf-b850-45b7-b7d7-5105206ab4b0",
   "metadata": {
    "tags": []
   },
   "source": [
    "# Notebook to identify the neural invariance manifold with a CPPN mapping from a latent space\n",
    "\n",
    "* neuron invariance: phase and orientation (Gabor based neuron)\n",
    "* latent space topology: torus (periodic and 2D)"
   ]
  },
  {
   "cell_type": "markdown",
   "id": "a1e33081",
   "metadata": {},
   "source": [
    "---\n",
    "\n",
    "### Imports and config parameters\n",
    "\n"
   ]
  },
  {
   "cell_type": "code",
   "execution_count": 10,
   "id": "852b8266-df42-4bcf-918b-e6c49437bce6",
   "metadata": {},
   "outputs": [
    {
     "data": {
      "text/plain": [
       "<torch._C.Generator at 0x7f2bd36d04b0>"
      ]
     },
     "execution_count": 10,
     "metadata": {},
     "output_type": "execute_result"
    }
   ],
   "source": [
    "import numpy as np\n",
    "import matplotlib.pyplot as plt\n",
    "import torch\n",
    "from torch import nn\n",
    "from tqdm import tqdm\n",
    "from classicalv1.toy_models import RotationInvariantGabor, RotationInvariantComplex, ComplexCell\n",
    "from invariance_generation.datamodule import JitteringGridDatamodule\n",
    "from invariance_generation.cppn import CPPNForInvariances\n",
    "from invariance_generation.regularization import SimCLROnGrid\n",
    "from invariance_generation.utils.plot_utils import plot_f, plot_filters\n",
    "import os\n",
    "import matplotlib\n",
    "\n",
    "\n",
    "font = {'size'   : 20}\n",
    "matplotlib.rc('font', **font)\n",
    "\n",
    "device = 'cuda' if torch.cuda.is_available() else 'cpu'\n",
    "with_periodic_invariances = True \n",
    "temperature =  0.3\n",
    "grid_points_per_dim = 20\n",
    "num_invariances=2\n",
    "reg_coefs = [1, 0.5]\n",
    "epochs_per_reg = 120\n",
    "lr = 1e-2\n",
    "random_seed = 1\n",
    "np.random.seed(random_seed)\n",
    "torch.manual_seed(random_seed)\n"
   ]
  },
  {
   "cell_type": "markdown",
   "id": "63fc80f0-a0c6-4300-9887-8e3a75380ad0",
   "metadata": {},
   "source": [
    "### Initialize the neuron model\n",
    "This Gabor based neuron is implemented as a simple cell"
   ]
  },
  {
   "cell_type": "code",
   "execution_count": 11,
   "id": "fc1f852f-9be1-4ddf-9ad1-6a0cb0e26c05",
   "metadata": {},
   "outputs": [
    {
     "ename": "RuntimeError",
     "evalue": "CUDA error: out of memory\nCUDA kernel errors might be asynchronously reported at some other API call,so the stacktrace below might be incorrect.\nFor debugging consider passing CUDA_LAUNCH_BLOCKING=1.",
     "output_type": "error",
     "traceback": [
      "\u001b[0;31m---------------------------------------------------------------------------\u001b[0m",
      "\u001b[0;31mRuntimeError\u001b[0m                              Traceback (most recent call last)",
      "\u001b[0;32m/tmp/ipykernel_29278/3363867688.py\u001b[0m in \u001b[0;36m<module>\u001b[0;34m\u001b[0m\n\u001b[1;32m      5\u001b[0m         \u001b[0;34m'max_angle'\u001b[0m\u001b[0;34m:\u001b[0m \u001b[0;36m2\u001b[0m\u001b[0;34m*\u001b[0m\u001b[0mnp\u001b[0m\u001b[0;34m.\u001b[0m\u001b[0mpi\u001b[0m\u001b[0;34m\u001b[0m\u001b[0;34m\u001b[0m\u001b[0m\n\u001b[1;32m      6\u001b[0m     }\n\u001b[0;32m----> 7\u001b[0;31m \u001b[0mencoding_model\u001b[0m \u001b[0;34m=\u001b[0m \u001b[0mRotationInvariantComplex\u001b[0m\u001b[0;34m(\u001b[0m\u001b[0;34m**\u001b[0m\u001b[0mneuron_config\u001b[0m\u001b[0;34m)\u001b[0m\u001b[0;34m.\u001b[0m\u001b[0mto\u001b[0m\u001b[0;34m(\u001b[0m\u001b[0mdevice\u001b[0m\u001b[0;34m)\u001b[0m\u001b[0;34m\u001b[0m\u001b[0;34m\u001b[0m\u001b[0m\n\u001b[0m",
      "\u001b[0;32m/usr/local/lib/python3.9/dist-packages/torch/nn/modules/module.py\u001b[0m in \u001b[0;36mto\u001b[0;34m(self, *args, **kwargs)\u001b[0m\n\u001b[1;32m    850\u001b[0m             \u001b[0;32mreturn\u001b[0m \u001b[0mt\u001b[0m\u001b[0;34m.\u001b[0m\u001b[0mto\u001b[0m\u001b[0;34m(\u001b[0m\u001b[0mdevice\u001b[0m\u001b[0;34m,\u001b[0m \u001b[0mdtype\u001b[0m \u001b[0;32mif\u001b[0m \u001b[0mt\u001b[0m\u001b[0;34m.\u001b[0m\u001b[0mis_floating_point\u001b[0m\u001b[0;34m(\u001b[0m\u001b[0;34m)\u001b[0m \u001b[0;32mor\u001b[0m \u001b[0mt\u001b[0m\u001b[0;34m.\u001b[0m\u001b[0mis_complex\u001b[0m\u001b[0;34m(\u001b[0m\u001b[0;34m)\u001b[0m \u001b[0;32melse\u001b[0m \u001b[0;32mNone\u001b[0m\u001b[0;34m,\u001b[0m \u001b[0mnon_blocking\u001b[0m\u001b[0;34m)\u001b[0m\u001b[0;34m\u001b[0m\u001b[0;34m\u001b[0m\u001b[0m\n\u001b[1;32m    851\u001b[0m \u001b[0;34m\u001b[0m\u001b[0m\n\u001b[0;32m--> 852\u001b[0;31m         \u001b[0;32mreturn\u001b[0m \u001b[0mself\u001b[0m\u001b[0;34m.\u001b[0m\u001b[0m_apply\u001b[0m\u001b[0;34m(\u001b[0m\u001b[0mconvert\u001b[0m\u001b[0;34m)\u001b[0m\u001b[0;34m\u001b[0m\u001b[0;34m\u001b[0m\u001b[0m\n\u001b[0m\u001b[1;32m    853\u001b[0m \u001b[0;34m\u001b[0m\u001b[0m\n\u001b[1;32m    854\u001b[0m     def register_backward_hook(\n",
      "\u001b[0;32m/usr/local/lib/python3.9/dist-packages/torch/nn/modules/module.py\u001b[0m in \u001b[0;36m_apply\u001b[0;34m(self, fn)\u001b[0m\n\u001b[1;32m    571\u001b[0m         \u001b[0;32mfor\u001b[0m \u001b[0mkey\u001b[0m\u001b[0;34m,\u001b[0m \u001b[0mbuf\u001b[0m \u001b[0;32min\u001b[0m \u001b[0mself\u001b[0m\u001b[0;34m.\u001b[0m\u001b[0m_buffers\u001b[0m\u001b[0;34m.\u001b[0m\u001b[0mitems\u001b[0m\u001b[0;34m(\u001b[0m\u001b[0;34m)\u001b[0m\u001b[0;34m:\u001b[0m\u001b[0;34m\u001b[0m\u001b[0;34m\u001b[0m\u001b[0m\n\u001b[1;32m    572\u001b[0m             \u001b[0;32mif\u001b[0m \u001b[0mbuf\u001b[0m \u001b[0;32mis\u001b[0m \u001b[0;32mnot\u001b[0m \u001b[0;32mNone\u001b[0m\u001b[0;34m:\u001b[0m\u001b[0;34m\u001b[0m\u001b[0;34m\u001b[0m\u001b[0m\n\u001b[0;32m--> 573\u001b[0;31m                 \u001b[0mself\u001b[0m\u001b[0;34m.\u001b[0m\u001b[0m_buffers\u001b[0m\u001b[0;34m[\u001b[0m\u001b[0mkey\u001b[0m\u001b[0;34m]\u001b[0m \u001b[0;34m=\u001b[0m \u001b[0mfn\u001b[0m\u001b[0;34m(\u001b[0m\u001b[0mbuf\u001b[0m\u001b[0;34m)\u001b[0m\u001b[0;34m\u001b[0m\u001b[0;34m\u001b[0m\u001b[0m\n\u001b[0m\u001b[1;32m    574\u001b[0m \u001b[0;34m\u001b[0m\u001b[0m\n\u001b[1;32m    575\u001b[0m         \u001b[0;32mreturn\u001b[0m \u001b[0mself\u001b[0m\u001b[0;34m\u001b[0m\u001b[0;34m\u001b[0m\u001b[0m\n",
      "\u001b[0;32m/usr/local/lib/python3.9/dist-packages/torch/nn/modules/module.py\u001b[0m in \u001b[0;36mconvert\u001b[0;34m(t)\u001b[0m\n\u001b[1;32m    848\u001b[0m                 return t.to(device, dtype if t.is_floating_point() or t.is_complex() else None,\n\u001b[1;32m    849\u001b[0m                             non_blocking, memory_format=convert_to_format)\n\u001b[0;32m--> 850\u001b[0;31m             \u001b[0;32mreturn\u001b[0m \u001b[0mt\u001b[0m\u001b[0;34m.\u001b[0m\u001b[0mto\u001b[0m\u001b[0;34m(\u001b[0m\u001b[0mdevice\u001b[0m\u001b[0;34m,\u001b[0m \u001b[0mdtype\u001b[0m \u001b[0;32mif\u001b[0m \u001b[0mt\u001b[0m\u001b[0;34m.\u001b[0m\u001b[0mis_floating_point\u001b[0m\u001b[0;34m(\u001b[0m\u001b[0;34m)\u001b[0m \u001b[0;32mor\u001b[0m \u001b[0mt\u001b[0m\u001b[0;34m.\u001b[0m\u001b[0mis_complex\u001b[0m\u001b[0;34m(\u001b[0m\u001b[0;34m)\u001b[0m \u001b[0;32melse\u001b[0m \u001b[0;32mNone\u001b[0m\u001b[0;34m,\u001b[0m \u001b[0mnon_blocking\u001b[0m\u001b[0;34m)\u001b[0m\u001b[0;34m\u001b[0m\u001b[0;34m\u001b[0m\u001b[0m\n\u001b[0m\u001b[1;32m    851\u001b[0m \u001b[0;34m\u001b[0m\u001b[0m\n\u001b[1;32m    852\u001b[0m         \u001b[0;32mreturn\u001b[0m \u001b[0mself\u001b[0m\u001b[0;34m.\u001b[0m\u001b[0m_apply\u001b[0m\u001b[0;34m(\u001b[0m\u001b[0mconvert\u001b[0m\u001b[0;34m)\u001b[0m\u001b[0;34m\u001b[0m\u001b[0;34m\u001b[0m\u001b[0m\n",
      "\u001b[0;31mRuntimeError\u001b[0m: CUDA error: out of memory\nCUDA kernel errors might be asynchronously reported at some other API call,so the stacktrace below might be incorrect.\nFor debugging consider passing CUDA_LAUNCH_BLOCKING=1."
     ]
    }
   ],
   "source": [
    "neuron_config = {\n",
    "        'res': [30, 30],\n",
    "        'n_thetas': 180,\n",
    "        'pos': [0, 0],\n",
    "        'max_angle': 2*np.pi\n",
    "    }\n",
    "encoding_model = RotationInvariantComplex(**neuron_config).to(device)"
   ]
  },
  {
   "cell_type": "markdown",
   "id": "873643f2-03a0-47ca-b82c-f13fab0455d9",
   "metadata": {},
   "source": [
    "### Initialize CPPN\n",
    "\n",
    "The CPPN is an MLP that create images (in our case depending on an input latent parameter z) predicting pixel values from x and y coordinates"
   ]
  },
  {
   "cell_type": "code",
   "execution_count": 8,
   "id": "2b3887cf-4ee6-41f8-8aed-e1a1ce81e2b0",
   "metadata": {},
   "outputs": [
    {
     "ename": "RuntimeError",
     "evalue": "CUDA error: out of memory\nCUDA kernel errors might be asynchronously reported at some other API call,so the stacktrace below might be incorrect.\nFor debugging consider passing CUDA_LAUNCH_BLOCKING=1.",
     "output_type": "error",
     "traceback": [
      "\u001b[0;31m---------------------------------------------------------------------------\u001b[0m",
      "\u001b[0;31mRuntimeError\u001b[0m                              Traceback (most recent call last)",
      "\u001b[0;32m/tmp/ipykernel_29278/1227886064.py\u001b[0m in \u001b[0;36m<module>\u001b[0;34m\u001b[0m\n\u001b[1;32m     13\u001b[0m     \u001b[0maux_dim_scale\u001b[0m\u001b[0;34m=\u001b[0m\u001b[0;36m1.\u001b[0m\u001b[0;34m\u001b[0m\u001b[0;34m\u001b[0m\u001b[0m\n\u001b[1;32m     14\u001b[0m )\n\u001b[0;32m---> 15\u001b[0;31m \u001b[0mcppn\u001b[0m \u001b[0;34m=\u001b[0m \u001b[0mCPPNForInvariances\u001b[0m\u001b[0;34m(\u001b[0m\u001b[0;34m**\u001b[0m\u001b[0mcppn_config\u001b[0m\u001b[0;34m)\u001b[0m\u001b[0;34m.\u001b[0m\u001b[0mto\u001b[0m\u001b[0;34m(\u001b[0m\u001b[0mdevice\u001b[0m\u001b[0;34m)\u001b[0m\u001b[0;34m\u001b[0m\u001b[0;34m\u001b[0m\u001b[0m\n\u001b[0m",
      "\u001b[0;32m/usr/local/lib/python3.9/dist-packages/torch/nn/modules/module.py\u001b[0m in \u001b[0;36mto\u001b[0;34m(self, *args, **kwargs)\u001b[0m\n\u001b[1;32m    850\u001b[0m             \u001b[0;32mreturn\u001b[0m \u001b[0mt\u001b[0m\u001b[0;34m.\u001b[0m\u001b[0mto\u001b[0m\u001b[0;34m(\u001b[0m\u001b[0mdevice\u001b[0m\u001b[0;34m,\u001b[0m \u001b[0mdtype\u001b[0m \u001b[0;32mif\u001b[0m \u001b[0mt\u001b[0m\u001b[0;34m.\u001b[0m\u001b[0mis_floating_point\u001b[0m\u001b[0;34m(\u001b[0m\u001b[0;34m)\u001b[0m \u001b[0;32mor\u001b[0m \u001b[0mt\u001b[0m\u001b[0;34m.\u001b[0m\u001b[0mis_complex\u001b[0m\u001b[0;34m(\u001b[0m\u001b[0;34m)\u001b[0m \u001b[0;32melse\u001b[0m \u001b[0;32mNone\u001b[0m\u001b[0;34m,\u001b[0m \u001b[0mnon_blocking\u001b[0m\u001b[0;34m)\u001b[0m\u001b[0;34m\u001b[0m\u001b[0;34m\u001b[0m\u001b[0m\n\u001b[1;32m    851\u001b[0m \u001b[0;34m\u001b[0m\u001b[0m\n\u001b[0;32m--> 852\u001b[0;31m         \u001b[0;32mreturn\u001b[0m \u001b[0mself\u001b[0m\u001b[0;34m.\u001b[0m\u001b[0m_apply\u001b[0m\u001b[0;34m(\u001b[0m\u001b[0mconvert\u001b[0m\u001b[0;34m)\u001b[0m\u001b[0;34m\u001b[0m\u001b[0;34m\u001b[0m\u001b[0m\n\u001b[0m\u001b[1;32m    853\u001b[0m \u001b[0;34m\u001b[0m\u001b[0m\n\u001b[1;32m    854\u001b[0m     def register_backward_hook(\n",
      "\u001b[0;32m/usr/local/lib/python3.9/dist-packages/torch/nn/modules/module.py\u001b[0m in \u001b[0;36m_apply\u001b[0;34m(self, fn)\u001b[0m\n\u001b[1;32m    528\u001b[0m     \u001b[0;32mdef\u001b[0m \u001b[0m_apply\u001b[0m\u001b[0;34m(\u001b[0m\u001b[0mself\u001b[0m\u001b[0;34m,\u001b[0m \u001b[0mfn\u001b[0m\u001b[0;34m)\u001b[0m\u001b[0;34m:\u001b[0m\u001b[0;34m\u001b[0m\u001b[0;34m\u001b[0m\u001b[0m\n\u001b[1;32m    529\u001b[0m         \u001b[0;32mfor\u001b[0m \u001b[0mmodule\u001b[0m \u001b[0;32min\u001b[0m \u001b[0mself\u001b[0m\u001b[0;34m.\u001b[0m\u001b[0mchildren\u001b[0m\u001b[0;34m(\u001b[0m\u001b[0;34m)\u001b[0m\u001b[0;34m:\u001b[0m\u001b[0;34m\u001b[0m\u001b[0;34m\u001b[0m\u001b[0m\n\u001b[0;32m--> 530\u001b[0;31m             \u001b[0mmodule\u001b[0m\u001b[0;34m.\u001b[0m\u001b[0m_apply\u001b[0m\u001b[0;34m(\u001b[0m\u001b[0mfn\u001b[0m\u001b[0;34m)\u001b[0m\u001b[0;34m\u001b[0m\u001b[0;34m\u001b[0m\u001b[0m\n\u001b[0m\u001b[1;32m    531\u001b[0m \u001b[0;34m\u001b[0m\u001b[0m\n\u001b[1;32m    532\u001b[0m         \u001b[0;32mdef\u001b[0m \u001b[0mcompute_should_use_set_data\u001b[0m\u001b[0;34m(\u001b[0m\u001b[0mtensor\u001b[0m\u001b[0;34m,\u001b[0m \u001b[0mtensor_applied\u001b[0m\u001b[0;34m)\u001b[0m\u001b[0;34m:\u001b[0m\u001b[0;34m\u001b[0m\u001b[0;34m\u001b[0m\u001b[0m\n",
      "\u001b[0;32m/usr/local/lib/python3.9/dist-packages/torch/nn/modules/module.py\u001b[0m in \u001b[0;36m_apply\u001b[0;34m(self, fn)\u001b[0m\n\u001b[1;32m    528\u001b[0m     \u001b[0;32mdef\u001b[0m \u001b[0m_apply\u001b[0m\u001b[0;34m(\u001b[0m\u001b[0mself\u001b[0m\u001b[0;34m,\u001b[0m \u001b[0mfn\u001b[0m\u001b[0;34m)\u001b[0m\u001b[0;34m:\u001b[0m\u001b[0;34m\u001b[0m\u001b[0;34m\u001b[0m\u001b[0m\n\u001b[1;32m    529\u001b[0m         \u001b[0;32mfor\u001b[0m \u001b[0mmodule\u001b[0m \u001b[0;32min\u001b[0m \u001b[0mself\u001b[0m\u001b[0;34m.\u001b[0m\u001b[0mchildren\u001b[0m\u001b[0;34m(\u001b[0m\u001b[0;34m)\u001b[0m\u001b[0;34m:\u001b[0m\u001b[0;34m\u001b[0m\u001b[0;34m\u001b[0m\u001b[0m\n\u001b[0;32m--> 530\u001b[0;31m             \u001b[0mmodule\u001b[0m\u001b[0;34m.\u001b[0m\u001b[0m_apply\u001b[0m\u001b[0;34m(\u001b[0m\u001b[0mfn\u001b[0m\u001b[0;34m)\u001b[0m\u001b[0;34m\u001b[0m\u001b[0;34m\u001b[0m\u001b[0m\n\u001b[0m\u001b[1;32m    531\u001b[0m \u001b[0;34m\u001b[0m\u001b[0m\n\u001b[1;32m    532\u001b[0m         \u001b[0;32mdef\u001b[0m \u001b[0mcompute_should_use_set_data\u001b[0m\u001b[0;34m(\u001b[0m\u001b[0mtensor\u001b[0m\u001b[0;34m,\u001b[0m \u001b[0mtensor_applied\u001b[0m\u001b[0;34m)\u001b[0m\u001b[0;34m:\u001b[0m\u001b[0;34m\u001b[0m\u001b[0;34m\u001b[0m\u001b[0m\n",
      "\u001b[0;32m/usr/local/lib/python3.9/dist-packages/torch/nn/modules/module.py\u001b[0m in \u001b[0;36m_apply\u001b[0;34m(self, fn)\u001b[0m\n\u001b[1;32m    528\u001b[0m     \u001b[0;32mdef\u001b[0m \u001b[0m_apply\u001b[0m\u001b[0;34m(\u001b[0m\u001b[0mself\u001b[0m\u001b[0;34m,\u001b[0m \u001b[0mfn\u001b[0m\u001b[0;34m)\u001b[0m\u001b[0;34m:\u001b[0m\u001b[0;34m\u001b[0m\u001b[0;34m\u001b[0m\u001b[0m\n\u001b[1;32m    529\u001b[0m         \u001b[0;32mfor\u001b[0m \u001b[0mmodule\u001b[0m \u001b[0;32min\u001b[0m \u001b[0mself\u001b[0m\u001b[0;34m.\u001b[0m\u001b[0mchildren\u001b[0m\u001b[0;34m(\u001b[0m\u001b[0;34m)\u001b[0m\u001b[0;34m:\u001b[0m\u001b[0;34m\u001b[0m\u001b[0;34m\u001b[0m\u001b[0m\n\u001b[0;32m--> 530\u001b[0;31m             \u001b[0mmodule\u001b[0m\u001b[0;34m.\u001b[0m\u001b[0m_apply\u001b[0m\u001b[0;34m(\u001b[0m\u001b[0mfn\u001b[0m\u001b[0;34m)\u001b[0m\u001b[0;34m\u001b[0m\u001b[0;34m\u001b[0m\u001b[0m\n\u001b[0m\u001b[1;32m    531\u001b[0m \u001b[0;34m\u001b[0m\u001b[0m\n\u001b[1;32m    532\u001b[0m         \u001b[0;32mdef\u001b[0m \u001b[0mcompute_should_use_set_data\u001b[0m\u001b[0;34m(\u001b[0m\u001b[0mtensor\u001b[0m\u001b[0;34m,\u001b[0m \u001b[0mtensor_applied\u001b[0m\u001b[0;34m)\u001b[0m\u001b[0;34m:\u001b[0m\u001b[0;34m\u001b[0m\u001b[0;34m\u001b[0m\u001b[0m\n",
      "\u001b[0;32m/usr/local/lib/python3.9/dist-packages/torch/nn/modules/module.py\u001b[0m in \u001b[0;36m_apply\u001b[0;34m(self, fn)\u001b[0m\n\u001b[1;32m    550\u001b[0m                 \u001b[0;31m# `with torch.no_grad():`\u001b[0m\u001b[0;34m\u001b[0m\u001b[0;34m\u001b[0m\u001b[0;34m\u001b[0m\u001b[0m\n\u001b[1;32m    551\u001b[0m                 \u001b[0;32mwith\u001b[0m \u001b[0mtorch\u001b[0m\u001b[0;34m.\u001b[0m\u001b[0mno_grad\u001b[0m\u001b[0;34m(\u001b[0m\u001b[0;34m)\u001b[0m\u001b[0;34m:\u001b[0m\u001b[0;34m\u001b[0m\u001b[0;34m\u001b[0m\u001b[0m\n\u001b[0;32m--> 552\u001b[0;31m                     \u001b[0mparam_applied\u001b[0m \u001b[0;34m=\u001b[0m \u001b[0mfn\u001b[0m\u001b[0;34m(\u001b[0m\u001b[0mparam\u001b[0m\u001b[0;34m)\u001b[0m\u001b[0;34m\u001b[0m\u001b[0;34m\u001b[0m\u001b[0m\n\u001b[0m\u001b[1;32m    553\u001b[0m                 \u001b[0mshould_use_set_data\u001b[0m \u001b[0;34m=\u001b[0m \u001b[0mcompute_should_use_set_data\u001b[0m\u001b[0;34m(\u001b[0m\u001b[0mparam\u001b[0m\u001b[0;34m,\u001b[0m \u001b[0mparam_applied\u001b[0m\u001b[0;34m)\u001b[0m\u001b[0;34m\u001b[0m\u001b[0;34m\u001b[0m\u001b[0m\n\u001b[1;32m    554\u001b[0m                 \u001b[0;32mif\u001b[0m \u001b[0mshould_use_set_data\u001b[0m\u001b[0;34m:\u001b[0m\u001b[0;34m\u001b[0m\u001b[0;34m\u001b[0m\u001b[0m\n",
      "\u001b[0;32m/usr/local/lib/python3.9/dist-packages/torch/nn/modules/module.py\u001b[0m in \u001b[0;36mconvert\u001b[0;34m(t)\u001b[0m\n\u001b[1;32m    848\u001b[0m                 return t.to(device, dtype if t.is_floating_point() or t.is_complex() else None,\n\u001b[1;32m    849\u001b[0m                             non_blocking, memory_format=convert_to_format)\n\u001b[0;32m--> 850\u001b[0;31m             \u001b[0;32mreturn\u001b[0m \u001b[0mt\u001b[0m\u001b[0;34m.\u001b[0m\u001b[0mto\u001b[0m\u001b[0;34m(\u001b[0m\u001b[0mdevice\u001b[0m\u001b[0;34m,\u001b[0m \u001b[0mdtype\u001b[0m \u001b[0;32mif\u001b[0m \u001b[0mt\u001b[0m\u001b[0;34m.\u001b[0m\u001b[0mis_floating_point\u001b[0m\u001b[0;34m(\u001b[0m\u001b[0;34m)\u001b[0m \u001b[0;32mor\u001b[0m \u001b[0mt\u001b[0m\u001b[0;34m.\u001b[0m\u001b[0mis_complex\u001b[0m\u001b[0;34m(\u001b[0m\u001b[0;34m)\u001b[0m \u001b[0;32melse\u001b[0m \u001b[0;32mNone\u001b[0m\u001b[0;34m,\u001b[0m \u001b[0mnon_blocking\u001b[0m\u001b[0;34m)\u001b[0m\u001b[0;34m\u001b[0m\u001b[0;34m\u001b[0m\u001b[0m\n\u001b[0m\u001b[1;32m    851\u001b[0m \u001b[0;34m\u001b[0m\u001b[0m\n\u001b[1;32m    852\u001b[0m         \u001b[0;32mreturn\u001b[0m \u001b[0mself\u001b[0m\u001b[0;34m.\u001b[0m\u001b[0m_apply\u001b[0m\u001b[0;34m(\u001b[0m\u001b[0mconvert\u001b[0m\u001b[0;34m)\u001b[0m\u001b[0;34m\u001b[0m\u001b[0;34m\u001b[0m\u001b[0m\n",
      "\u001b[0;31mRuntimeError\u001b[0m: CUDA error: out of memory\nCUDA kernel errors might be asynchronously reported at some other API call,so the stacktrace below might be incorrect.\nFor debugging consider passing CUDA_LAUNCH_BLOCKING=1."
     ]
    }
   ],
   "source": [
    "cppn_config = dict(    \n",
    "    img_res=[30,30],\n",
    "    channels=1,\n",
    "    positional_encoding_dim=10,\n",
    "    positional_encoding_projection_scale=1.,\n",
    "    num_neurons=1,\n",
    "    num_invariances=num_invariances,\n",
    "    with_periodic_invariances=with_periodic_invariances,\n",
    "    nonlinearity=nn.LeakyReLU,\n",
    "    weights_scale=.1,\n",
    "    batchnorm=True,\n",
    "    bias=True,\n",
    "    aux_dim_scale=1.\n",
    ")\n",
    "cppn = CPPNForInvariances(**cppn_config).to(device)"
   ]
  },
  {
   "cell_type": "markdown",
   "id": "faa9fe02-f69b-4887-8ac4-2030007029b9",
   "metadata": {},
   "source": [
    "### Intermediate image transformation \n",
    "\n",
    "fix mean and standard deviation (luminance and contrast) before passing images to the neural response model"
   ]
  },
  {
   "cell_type": "code",
   "execution_count": 9,
   "id": "197aca7d-11c0-46b7-b175-e970b9a3c48b",
   "metadata": {},
   "outputs": [],
   "source": [
    "class FixMeanStd(nn.Module):\n",
    "    def __init__(self, mean=None, std=None, eps=1e-12):\n",
    "        super().__init__()\n",
    "        self.mean = mean\n",
    "        self.std = std\n",
    "        self.eps = eps\n",
    "    def forward(self, img):\n",
    "        if self.mean is not None:\n",
    "            img_mean = img.mean(dim=(2, 3), keepdim=True)\n",
    "            img1 = self.mean + img - img_mean\n",
    "        else:\n",
    "            img1 = img\n",
    "        if self.std is not None:        \n",
    "            img_std = img1.std(dim=(2, 3), keepdim=True)\n",
    "            img2 = self.std * img1 / (img_std + self.eps)\n",
    "        return img2\n",
    "\n",
    "img_trans_config = dict(mean=0, std=.2)\n",
    "img_transforms = FixMeanStd(**img_trans_config).to(device)"
   ]
  },
  {
   "cell_type": "markdown",
   "id": "02757849-59a1-4bdf-b817-bb6369c87133",
   "metadata": {},
   "source": [
    "### Dataloader to load latent grid \n",
    "\n",
    "This \"datamodule\" sample the grid of points in the latent space from which to create images at each training step. "
   ]
  },
  {
   "cell_type": "code",
   "execution_count": null,
   "id": "9762fc8d-1fa3-4df3-b72b-35c2ec86fb60",
   "metadata": {},
   "outputs": [],
   "source": [
    "dataloader_config = dict(\n",
    "    num_invariances=num_invariances,\n",
    "    grid_points_per_dim=grid_points_per_dim, \n",
    "    steps_per_epoch=100, \n",
    ")\n",
    "dm = JitteringGridDatamodule(**dataloader_config)\n",
    "dm.train_dataloader()\n",
    "grid = dm.grid.to(device)\n"
   ]
  },
  {
   "cell_type": "markdown",
   "id": "3524cfcf-6d26-4a3c-b55d-5912878c1fcc",
   "metadata": {},
   "source": [
    "### Constrastive learning objective module\n",
    "\n",
    "This object define positive and negative points for each point in the grid and changes depending on latent space topology. \n",
    "\n",
    "We plot the neighbouring mask of a point in the uppermost corner of the sheet to check periodic conditions"
   ]
  },
  {
   "cell_type": "code",
   "execution_count": null,
   "id": "7e365c76-5d1f-4dda-a890-5f41d68c98f9",
   "metadata": {},
   "outputs": [
    {
     "data": {
      "image/png": "[encoded data removed]",
      "text/plain": [
       "<Figure size 432x288 with 2 Axes>"
      ]
     },
     "metadata": {
      "needs_background": "light"
     },
     "output_type": "display_data"
    }
   ],
   "source": [
    "objective_config = dict(\n",
    "    num_invariances=num_invariances,\n",
    "    grid_points_per_dim=grid_points_per_dim,\n",
    "    neighbor_size=.1,\n",
    "    temperature = temperature,\n",
    "    with_periodic_invariances=with_periodic_invariances,\n",
    "    with_round_neighbor = False\n",
    ")\n",
    "\n",
    "grid_reg = SimCLROnGrid(**objective_config).to(device)\n",
    "plot_f(grid_reg.neighbor_mask[0,0])"
   ]
  },
  {
   "cell_type": "markdown",
   "id": "e371daec-e729-4c35-b2ed-cf17769a0adc",
   "metadata": {},
   "source": [
    "### Create a forward function \n",
    "\n",
    "It feeds point to CPPN to create images, fixes their luminance and contrast and pass them to the neural model to get activations"
   ]
  },
  {
   "cell_type": "code",
   "execution_count": null,
   "id": "2416849a-d061-4e63-8608-82f11c534e87",
   "metadata": {},
   "outputs": [],
   "source": [
    "def forward(grid, cppn, img_tranfs, encoding_model, resolution_increase_factor=1.):\n",
    "    \"\"\"forward pass throught the pipeline \"\"\"\n",
    "    img_pre = cppn(grid)\n",
    "    img_post = img_tranfs(img_pre)\n",
    "    acts = encoding_model(img_post)\n",
    "    \n",
    "    if resolution_increase_factor > 1:\n",
    "        with torch.no_grad():\n",
    "            img_pre_hres = cppn(grid, img_res=[r*resolution_increase_factor for r in cppn.img_res])\n",
    "            img_post_hres = img_transforms(img_pre_hres)       \n",
    "    else:\n",
    "        img_post_hres = img_post\n",
    "    \n",
    "    return img_pre, img_post, acts, img_post_hres"
   ]
  },
  {
   "cell_type": "markdown",
   "id": "f005dc5c",
   "metadata": {},
   "source": [
    "### Get neuron MEI activation\n",
    "\n",
    "MEI (maximally exciting image) activation can be obtained via direct pixel optimization to maximase neural response (no contrastive loss). "
   ]
  },
  {
   "cell_type": "code",
   "execution_count": null,
   "id": "e78a5c73-385c-4d0c-8e82-09dc1177fb29",
   "metadata": {},
   "outputs": [],
   "source": [
    "MEI_activation = 32.566429138183594 #  contrast dependent!"
   ]
  },
  {
   "cell_type": "markdown",
   "id": "c8378624-e837-42bf-934b-594b98f31476",
   "metadata": {
    "tags": []
   },
   "source": [
    "## Train the generative model \n",
    "\n",
    "The cppn is trained to maximaxe activation and produce different images with a constrastive regularization term with a regularization strength decreasing schedule"
   ]
  },
  {
   "cell_type": "code",
   "execution_count": null,
   "id": "7ed394d6-281b-4e7f-8be3-5e2b7ba2e544",
   "metadata": {
    "tags": []
   },
   "outputs": [
    {
     "name": "stderr",
     "output_type": "stream",
     "text": [
      "Act = 0.99 | Reg (1/2) = 1: 100%|██████████| 120/120 [01:51<00:00,  1.08it/s]       \n",
      "Act = 1.00 | Reg (2/2) = 0.5: 100%|██████████| 120/120 [01:50<00:00,  1.08it/s]     \n"
     ]
    }
   ],
   "source": [
    "for reg_idx, reg_scale in enumerate(reg_coefs):\n",
    "    num_epochs = epochs_per_reg\n",
    "    optimizer = torch.optim.Adam(cppn.parameters(), lr=lr)\n",
    "    pbar = tqdm(range(num_epochs), desc='mean activation will appear after one epoch')\n",
    "    encoding_model.eval()\n",
    "    for epoch in pbar:\n",
    "        # Training\n",
    "        cppn.train()\n",
    "        for input_grid in dm.train_dataloader():\n",
    "            input_grid = input_grid.to(device)\n",
    "            img_pre, img_post, _acts, _ = forward(input_grid, cppn, img_transforms, encoding_model)\n",
    "            acts = _acts/MEI_activation\n",
    "            loss = -acts.mean() - reg_scale * grid_reg.reg_term(img_post)\n",
    "            optimizer.zero_grad()\n",
    "            loss.backward()\n",
    "            optimizer.step()\n",
    "        pbar.set_description(f\"Act = {acts.mean().item():.2f} | Reg ({reg_idx+1}/{len(reg_coefs)}) = {reg_scale}\")"
   ]
  },
  {
   "cell_type": "markdown",
   "id": "aaf429ae",
   "metadata": {},
   "source": [
    "## Plots results"
   ]
  },
  {
   "cell_type": "code",
   "execution_count": 4,
   "id": "9277f8d9",
   "metadata": {},
   "outputs": [
    {
     "ename": "NameError",
     "evalue": "name 'dataloader_config' is not defined",
     "output_type": "error",
     "traceback": [
      "\u001b[0;31m---------------------------------------------------------------------------\u001b[0m",
      "\u001b[0;31mNameError\u001b[0m                                 Traceback (most recent call last)",
      "\u001b[0;32m/tmp/ipykernel_29278/3100121396.py\u001b[0m in \u001b[0;36m<module>\u001b[0;34m\u001b[0m\n\u001b[1;32m      2\u001b[0m \u001b[0;31m# datamodule useful for visualization purposes\u001b[0m\u001b[0;34m\u001b[0m\u001b[0;34m\u001b[0m\u001b[0;34m\u001b[0m\u001b[0m\n\u001b[1;32m      3\u001b[0m _dm = JitteringGridDatamodule(\n\u001b[0;32m----> 4\u001b[0;31m     \u001b[0mnum_invariances\u001b[0m\u001b[0;34m=\u001b[0m\u001b[0mdataloader_config\u001b[0m\u001b[0;34m[\u001b[0m\u001b[0;34m\"num_invariances\"\u001b[0m\u001b[0;34m]\u001b[0m\u001b[0;34m,\u001b[0m\u001b[0;34m\u001b[0m\u001b[0;34m\u001b[0m\u001b[0m\n\u001b[0m\u001b[1;32m      5\u001b[0m     \u001b[0mgrid_points_per_dim\u001b[0m\u001b[0;34m=\u001b[0m\u001b[0;36m10\u001b[0m\u001b[0;34m,\u001b[0m\u001b[0;34m\u001b[0m\u001b[0;34m\u001b[0m\u001b[0m\n\u001b[1;32m      6\u001b[0m     \u001b[0msteps_per_epoch\u001b[0m\u001b[0;34m=\u001b[0m\u001b[0mdataloader_config\u001b[0m\u001b[0;34m[\u001b[0m\u001b[0;34m\"steps_per_epoch\"\u001b[0m\u001b[0;34m]\u001b[0m\u001b[0;34m,\u001b[0m\u001b[0;34m\u001b[0m\u001b[0;34m\u001b[0m\u001b[0m\n",
      "\u001b[0;31mNameError\u001b[0m: name 'dataloader_config' is not defined"
     ]
    }
   ],
   "source": [
    "cell = 'phase_and_orientation'\n",
    "# datamodule useful for visualization purposes\n",
    "_dm = JitteringGridDatamodule(\n",
    "    num_invariances=dataloader_config[\"num_invariances\"],\n",
    "    grid_points_per_dim=10,\n",
    "    steps_per_epoch=dataloader_config[\"steps_per_epoch\"],\n",
    ")\n",
    "grid_vis = _dm.grid.to(device)\n",
    "img_pre, img_post, _acts, _ = forward(grid_vis, cppn, img_transforms, encoding_model)\n",
    "\n",
    "fig, ax = plot_filters(\n",
    "    img_post, nrow=int(np.sqrt(grid_vis.shape[0])), cmap=\"Greys_r\"\n",
    ")\n",
    "ax.set(xticks=[], yticks=[])\n",
    "folder = f\"/project/plots/2D/torus/{cell}/temp_{temperature}\"\n",
    "os.makedirs(folder, exist_ok=True)\n",
    "name = folder + 'grid_img.png'\n",
    "plt.savefig(name, bbox_inches=\"tight\", transparent=True)\n",
    "\n",
    "dataloader_config = dict(\n",
    "    num_invariances=2,\n",
    "    grid_points_per_dim=100,\n",
    "    steps_per_epoch=100,\n",
    ")\n",
    "_dm = JitteringGridDatamodule(**dataloader_config)\n",
    "_dm.train_dataloader()\n",
    "grid = _dm.grid.to(device)\n",
    "with torch.no_grad():\n",
    "    img_pre, img_post, _acts, _ = forward(\n",
    "        grid,\n",
    "        cppn,\n",
    "        img_transforms,\n",
    "        encoding_model,\n",
    "        resolution_increase_factor=3,\n",
    "    )\n",
    "    act = _acts / MEI_activation\n",
    "\n",
    "fig, ax = plt.subplots(1, 1)\n",
    "im = ax.imshow(\n",
    "    act.reshape(100, 100).detach().cpu().numpy(),\n",
    "    vmin=0,\n",
    "    vmax=1,\n",
    "    extent=[0, 2 * np.pi] * 2,\n",
    ")\n",
    "\n",
    "\n",
    "name = folder + 'activity.png'\n",
    "plt.savefig(name, bbox_inches=\"tight\", transparent=True)\n"
   ]
  },
  {
   "cell_type": "code",
   "execution_count": null,
   "id": "654d3753",
   "metadata": {},
   "outputs": [],
   "source": []
  },
  {
   "cell_type": "code",
   "execution_count": null,
   "id": "8643edef",
   "metadata": {},
   "outputs": [],
   "source": []
  }
 ],
 "metadata": {
  "kernelspec": {
   "display_name": "Python 3 (ipykernel)",
   "language": "python",
   "name": "python3"
  },
  "language_info": {
   "codemirror_mode": {
    "name": "ipython",
    "version": 3
   },
   "file_extension": ".py",
   "mimetype": "text/x-python",
   "name": "python",
   "nbconvert_exporter": "python",
   "pygments_lexer": "ipython3",
   "version": "3.9.6"
  }
 },
 "nbformat": 4,
 "nbformat_minor": 5
}
